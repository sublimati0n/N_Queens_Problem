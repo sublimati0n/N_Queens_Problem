{
 "cells": [
  {
   "cell_type": "code",
   "execution_count": 1,
   "metadata": {},
   "outputs": [
    {
     "name": "stderr",
     "output_type": "stream",
     "text": [
      "\u001b[32m\u001b[1m  Activating\u001b[22m\u001b[39m project at `c:\\Users\\10001244202\\program\\development\\nqueen_julia`\n"
     ]
    }
   ],
   "source": [
    "using Pkg\n",
    "Pkg.activate(\"..\")\n",
    "using Revise\n",
    "using Random\n",
    "using Profile\n",
    "using ProfileCanvas\n",
    "using ProfileSVG\n",
    "using ProgressMeter\n",
    "using BenchmarkTools\n",
    "using nqueen\n"
   ]
  },
  {
   "cell_type": "code",
   "execution_count": 2,
   "metadata": {},
   "outputs": [
    {
     "name": "stdout",
     "output_type": "stream",
     "text": [
      "--------- Initial solution (random greedy) ---------\n",
      "array: "
     ]
    },
    {
     "name": "stdout",
     "output_type": "stream",
     "text": [
      "[10, 7, 2, 6, 3, 1, 8, 5, 9, 4]\n",
      ". . . . . . . . . o \n",
      ". . . . . . o . . . \n",
      ". o . . . . . . . . \n",
      ". . . . . o . . . . \n",
      ". . o . . . . . . . \n",
      "o . . . . . . . . . \n",
      ". . . . . . . o . . \n",
      ". . . . o . . . . . \n",
      ". . . . . . . . o . \n",
      ". . . o . . . . . . \n",
      "queens on upward diagonals: [0, 0, 0, 1, 0, 1, 1, 1, 1, 1, 0, 1, 1, 1, 0, 0, 1, 0, 0]\n",
      "queens on downward diagonals: [0, 0, 0, 1, 1, 0, 1, 1, 1, 1, 1, 1, 0, 0, 1, 0, 0, 0, 1]\n",
      "#collisions: 0\n",
      "\n",
      "--------- starting fast tabu search ---------\n",
      "====================== Found solution ======================\n",
      "--------- finish fast tabu search ---------\n",
      "--------- Result of tabu search ---------\n",
      "array: [10, 7, 2, 6, 3, 1, 8, 5, 9, 4]\n",
      ". . . . . . . . . o \n",
      ". . . . . . o . . . \n",
      ". o . . . . . . . . \n",
      ". . . . . o . . . . \n",
      ". . o . . . . . . . \n",
      "o . . . . . . . . . \n",
      ". . . . . . . o . . \n",
      ". . . . o . . . . . \n",
      ". . . . . . . . o . \n",
      ". . . o . . . . . . \n",
      "queens on upward diagonals: [0, 0, 0, 1, 0, 1, 1, 1, 1, 1, 0, 1, 1, 1, 0, 0, 1, 0, 0]\n",
      "queens on downward diagonals: [0, 0, 0, 1, 1, 0, 1, 1, 1, 1, 1, 1, 0, 0, 1, 0, 0, 0, 1]\n",
      "#collisions: 0\n",
      "\n",
      "main(): 0.158845 seconds (134.99 k allocations: 9.090 MiB, 87.87% compilation time)"
     ]
    },
    {
     "name": "stdout",
     "output_type": "stream",
     "text": [
      "\n"
     ]
    }
   ],
   "source": [
    "function main()\n",
    "    LOG = false\n",
    "    n = 10\n",
    "    sol = Array(1:n)\n",
    "    up, dn = construct(sol)\n",
    "\n",
    "    println(\"--------- Initial solution (random greedy) ---------\")\n",
    "    show_log(sol, up, dn)\n",
    "\n",
    "    println(\"--------- starting fast tabu search ---------\")\n",
    "    fast_tabu_search!(sol, up, dn)\n",
    "    println(\"--------- finish fast tabu search ---------\")\n",
    "\n",
    "    # 結果を表示する\n",
    "    println(\"--------- Result of tabu search ---------\")\n",
    "    show_log(sol, up, dn)\n",
    "end\n",
    "@showtime main()\n"
   ]
  }
 ],
 "metadata": {
  "kernelspec": {
   "display_name": "Julia 1.9.2",
   "language": "julia",
   "name": "julia-1.9"
  },
  "language_info": {
   "file_extension": ".jl",
   "mimetype": "application/julia",
   "name": "julia",
   "version": "1.9.2"
  }
 },
 "nbformat": 4,
 "nbformat_minor": 2
}
