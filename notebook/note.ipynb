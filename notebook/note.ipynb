{
 "cells": [
  {
   "cell_type": "code",
   "execution_count": 1,
   "metadata": {},
   "outputs": [
    {
     "name": "stderr",
     "output_type": "stream",
     "text": [
      "\u001b[32m\u001b[1m  Activating\u001b[22m\u001b[39m project at `c:\\Users\\10001244202\\program\\development\\nqueen`\n"
     ]
    }
   ],
   "source": [
    "using Pkg\n",
    "Pkg.activate(\"..\")\n",
    "using Revise\n",
    "using Random\n",
    "using Profile\n",
    "using ProfileCanvas\n",
    "using ProfileSVG\n",
    "using ProgressMeter\n",
    "using BenchmarkTools\n",
    "using nqueen\n"
   ]
  },
  {
   "cell_type": "code",
   "execution_count": 4,
   "metadata": {},
   "outputs": [
    {
     "name": "stdout",
     "output_type": "stream",
     "text": [
      "--------- Initial solution (random greedy) ---------\n",
      "array: [7, 1, 4, 9, 5, 8, 2, 3, 6, 10]\n",
      ". . . . . . o . . . \n",
      "o . . . . . . . . . \n",
      ". . . o . . . . . . \n",
      ". . . . . . . . o . \n",
      ". . . . o . . . . . \n",
      ". . . . . . . o . . \n",
      ". o . . . . . . . . \n",
      ". . o . . . . . . . \n",
      ". . . . . o . . . . \n",
      ". . . . . . . . . o \n",
      "queens on upward diagonals: [0, 1, 0, 0, 0, 1, 1, 1, 1, 1, 0, 1, 1, 1, 0, 0, 0, 0, 1]\n",
      "queens on downward diagonals: [0, 0, 0, 0, 2, 0, 1, 0, 1, 2, 1, 1, 0, 0, 1, 1, 0, 0, 0]\n",
      "#collisions: 2\n",
      "\n",
      "--------- starting fast tabu search ---------\n",
      "swap candidate is 10\n",
      "iter=1: swap 10&7 delta=6\n",
      "====================== Found solution ======================\n",
      "--------- finish fast tabu search ---------\n",
      "--------- Result of tabu search ---------\n",
      "array: [7, 1, 4,"
     ]
    },
    {
     "name": "stdout",
     "output_type": "stream",
     "text": [
      " 9, 5, 8, 10, 3, 6, 2]\n",
      ". . . . . . o . . . \n",
      "o . . . . . . . . . \n",
      ". . . o . . . . . . \n",
      ". . . . . . . . o . \n",
      ". . . . o . . . . . \n",
      ". . . . . . . o . . \n",
      ". . . . . . . . . o \n",
      ". . o . . . . . . . \n",
      ". . . . . o . . . . \n",
      ". o . . . . . . . . \n",
      "queens on upward diagonals: [0, 1, 0, 0, 0, 1, 1, 0, 1, 1, 1, 1, 1, 1, 0, 1, 0, 0, 0]\n",
      "queens on downward diagonals: [0, 1, 0, 0, 1, 0, 1, 0, 1, 1, 1, 1, 1, 0, 1, 1, 0, 0, 0]\n",
      "#collisions: 0\n",
      "\n",
      "main(): 0.008840 seconds (3.43 k allocations: 109.633 KiB)\n"
     ]
    }
   ],
   "source": [
    "function main()\n",
    "    LOG = false\n",
    "    n = 10\n",
    "    sol = Array(1:n)\n",
    "    up, dn = construct(sol)\n",
    "\n",
    "    println(\"--------- Initial solution (random greedy) ---------\")\n",
    "    show_log(sol, up, dn)\n",
    "\n",
    "    println(\"--------- starting fast tabu search ---------\")\n",
    "    fast_tabu_search!(sol, up, dn)\n",
    "    println(\"--------- finish fast tabu search ---------\")\n",
    "\n",
    "    # 結果を表示する\n",
    "    println(\"--------- Result of tabu search ---------\")\n",
    "    show_log(sol, up, dn)\n",
    "end\n",
    "@showtime main()\n"
   ]
  },
  {
   "cell_type": "code",
   "execution_count": 3,
   "metadata": {},
   "outputs": [],
   "source": []
  }
 ],
 "metadata": {
  "kernelspec": {
   "display_name": "Julia 1.9.2",
   "language": "julia",
   "name": "julia-1.9"
  },
  "language_info": {
   "file_extension": ".jl",
   "mimetype": "application/julia",
   "name": "julia",
   "version": "1.9.2"
  }
 },
 "nbformat": 4,
 "nbformat_minor": 2
}
