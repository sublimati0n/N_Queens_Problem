{
 "cells": [
  {
   "cell_type": "code",
   "execution_count": 1,
   "metadata": {},
   "outputs": [],
   "source": [
    "using Random\n"
   ]
  },
  {
   "cell_type": "code",
   "execution_count": 2,
   "metadata": {},
   "outputs": [
    {
     "data": {
      "text/plain": [
       "show_board (generic function with 1 method)"
      ]
     },
     "metadata": {},
     "output_type": "display_data"
    }
   ],
   "source": [
    "function show_board(sol::Array{Int})::Nothing\n",
    "    n = length(sol)\n",
    "    for i = 1:n\n",
    "        for j = 1:n\n",
    "            if sol[i] == j\n",
    "                print(\"o \")\n",
    "            else\n",
    "                print(\". \")\n",
    "            end\n",
    "        end\n",
    "        println()\n",
    "    end\n",
    "end\n"
   ]
  },
  {
   "cell_type": "code",
   "execution_count": 3,
   "metadata": {},
   "outputs": [
    {
     "data": {
      "text/plain": [
       "diagonals (generic function with 1 method)"
      ]
     },
     "metadata": {},
     "output_type": "display_data"
    }
   ],
   "source": [
    "function diagonals(sol::Array{Int})::Tuple{Array{Int}, Array{Int}}\n",
    "    # ボード上の各対角線上のクイーンの数を決定する。\n",
    "\n",
    "    n = length(sol)  # ボードの大きさ\n",
    "    n_diag = 2 * n - 1  # 対角線の数\n",
    "\n",
    "    diag_up = zeros(Int, n_diag)\n",
    "    diag_dn = zeros(Int, n_diag)\n",
    "\n",
    "    for i = 1:n\n",
    "        # 行i列sol[j]のクイーンによって攻撃される斜め上対角線\n",
    "        d = i + sol[i] - 1  # 対角線のインデックス\n",
    "        diag_up[d] += 1\n",
    "\n",
    "        # 行i列sol[j]のクイーンによって攻撃される斜め下対角線\n",
    "        d = n + sol[i] - i  # 対角線のインデックス\n",
    "        diag_dn[d] += 1\n",
    "    end\n",
    "\n",
    "    return diag_up, diag_dn\n",
    "end\n"
   ]
  },
  {
   "cell_type": "code",
   "execution_count": 4,
   "metadata": {},
   "outputs": [
    {
     "data": {
      "text/plain": [
       "collisions (generic function with 1 method)"
      ]
     },
     "metadata": {},
     "output_type": "display_data"
    }
   ],
   "source": [
    "function collisions(diag::Array{Int})::Int\n",
    "    # 対角線上の衝突の総数を返す\n",
    "    n_colls = 0\n",
    "    for i in diag\n",
    "        if i > 1\n",
    "            # この対角線上に1つ以上のクイーンが既に配置されている\n",
    "            n_colls += i - 1\n",
    "        end\n",
    "    end\n",
    "    return n_colls\n",
    "end\n"
   ]
  },
  {
   "cell_type": "code",
   "execution_count": 5,
   "metadata": {},
   "outputs": [
    {
     "data": {
      "text/plain": [
       "exchange (generic function with 1 method)"
      ]
     },
     "metadata": {},
     "output_type": "display_data"
    }
   ],
   "source": [
    "function exchange(i::Int, j::Int, sol::Array{Int}, diag_up::Array{Int}, diag_dn::Array{Int})::Nothing\n",
    "    # 行iと行jのクイーンを交換し、それに伴う対角線情報を更新する\n",
    "    n = length(sol)\n",
    "\n",
    "    d = i + sol[i] - 1\n",
    "    diag_up[d] -= 1\n",
    "    d = j + sol[j] - 1\n",
    "    diag_up[d] -= 1\n",
    "\n",
    "    d = n + sol[i] - i\n",
    "    diag_dn[d] -= 1\n",
    "    d = n + sol[j] - i\n",
    "    diag_dn[d] -= 1\n",
    "\n",
    "    # iとjの位置を交換する\n",
    "    sol[i], sol[j] = sol[j], sol[i]\n",
    "\n",
    "    d = i + sol[i] - 1\n",
    "    diag_up[d] += 1\n",
    "    d = j + sol[j] - 1\n",
    "    diag_up[d] += 1\n",
    "\n",
    "    d = n + sol[i] - i\n",
    "    diag_dn[d] += 1\n",
    "    d = n + sol[j] - i\n",
    "    diag_dn[d] += 1\n",
    "end\n"
   ]
  },
  {
   "cell_type": "code",
   "execution_count": 6,
   "metadata": {},
   "outputs": [
    {
     "data": {
      "text/plain": [
       "decrease (generic function with 1 method)"
      ]
     },
     "metadata": {},
     "output_type": "display_data"
    }
   ],
   "source": [
    "function decrease(di::Int, dj::Int, ni::Int, nj::Int)::Int\n",
    "    # クイーンが除去された際の、除去される衝突を計算する\n",
    "    # di, dj: クイーンが現在置かれている対角線\n",
    "    # ni, nj: 対角線上のクイーンの数\n",
    "    delta = 0\n",
    "    if ni >= 2\n",
    "        delta -= 1\n",
    "    end\n",
    "    if nj >= 2\n",
    "        delta -= 1\n",
    "    end\n",
    "    if di == dj && ni == 2\n",
    "        delta += 1  # 1つ無駄に減らしてしまっている\n",
    "    end\n",
    "    return delta\n",
    "end\n"
   ]
  },
  {
   "cell_type": "code",
   "execution_count": 7,
   "metadata": {},
   "outputs": [
    {
     "data": {
      "text/plain": [
       "increase (generic function with 1 method)"
      ]
     },
     "metadata": {},
     "output_type": "display_data"
    }
   ],
   "source": [
    "function increase(di::Int, dj::Int, ni::Int, nj::Int)::Int\n",
    "    # クイーンが置かれた際の、新しく発生する衝突を計算する\n",
    "    # di, dj: クイーンが現在置かれている対角線\n",
    "    # ni, nj: 対角線上のクイーンの数\n",
    "    delta = 0\n",
    "    if ni >= 1\n",
    "        delta += 1\n",
    "    end\n",
    "    if nj >= 1\n",
    "        delta += 1\n",
    "    end\n",
    "    if di == dj && ni == 0\n",
    "        delta += 1  # 同じ対角線上にある\n",
    "    end\n",
    "    return delta\n",
    "end\n"
   ]
  },
  {
   "cell_type": "code",
   "execution_count": 8,
   "metadata": {},
   "outputs": [
    {
     "data": {
      "text/plain": [
       "evaluate_move (generic function with 1 method)"
      ]
     },
     "metadata": {},
     "output_type": "display_data"
    }
   ],
   "source": [
    "function evaluate_move(i::Int, j::Int, sol::Array{Int}, diag_up::Array{Int}, diag_dn::Array{Int})::Int\n",
    "    # 行iと行jのクイーンの交換を評価する\n",
    "\n",
    "    delta = 0\n",
    "    n = length(sol)\n",
    "\n",
    "    # 移動が許されても、攻撃されない対角線\n",
    "    upi = i + sol[i] - 1\n",
    "    upj = j + sol[j] - 1\n",
    "    delta += decrease(upi, upj, diag_up[upi], diag_up[upj])\n",
    "\n",
    "    dni = n + sol[i] - i\n",
    "    dnj = n + sol[j] - j\n",
    "    delta += increase(dni, dnj, diag_dn[dni], diag_dn[dnj])\n",
    "\n",
    "    # 攻撃されはじめる対角線\n",
    "    upi = i + sol[j] - 1\n",
    "    upj = j + sol[i] - 1\n",
    "    delta += decrease(upi, upj, diag_up[upi], diag_up[upj])\n",
    "\n",
    "    dni = n + sol[j] - i\n",
    "    dnj = n + sol[i] - j\n",
    "    delta += increase(dni, dnj, diag_dn[dni], diag_dn[dnj])\n",
    "\n",
    "    return delta\n",
    "end\n"
   ]
  },
  {
   "cell_type": "code",
   "execution_count": 9,
   "metadata": {},
   "outputs": [
    {
     "data": {
      "text/plain": [
       "find_move (generic function with 1 method)"
      ]
     },
     "metadata": {},
     "output_type": "display_data"
    }
   ],
   "source": [
    "function find_move(n_iter::Int, tabu, best_colls, sol::Array{Int}, diag_up::Array{Int}, diag_dn::Array{Int}, n_colls::Int)\n",
    "    # 最も良い移動(i, j)を返す。\n",
    "    # 現在解からの可能な移動を全てチェックし、以下のようなものを選ぶ\n",
    "    # ・TABUにない\n",
    "    # ・TABUだが、aspiration criterionを満たす\n",
    "    # 候補リストは、2行を入れ替える全ての可能性から成る。\n",
    "    n = length(sol)\n",
    "    best_delta = n  # 最も良い移動の値\n",
    "    for i = 1:n-1\n",
    "        for j = i + 1:n\n",
    "            delta = evaluate_move(i, j, sol, diag_up, diag_dn)\n",
    "\n",
    "            print(\"move \", i, \"-\", j, \"-> delta=\", delta, \"; \")\n",
    "            if tabu[i] >= n_iter\n",
    "                print(\"move is tabu; \")\n",
    "                if n_colls + delta < best_colls\n",
    "                    print(\"aspiration criterion is satisfied; \")\n",
    "                end\n",
    "            end\n",
    "            println()\n",
    "\n",
    "            if tabu[i] < n_iter || n_colls + delta < best_colls  # move is not tabu or satisfies aspiration criteria\n",
    "                if delta < best_delta\n",
    "                    best_delta = delta\n",
    "                    best_i = i\n",
    "                    best_j = j\n",
    "                end\n",
    "            end\n",
    "        end\n",
    "    end\n",
    "    return best_i, best_j, best_delta\n",
    "end\n"
   ]
  },
  {
   "cell_type": "code",
   "execution_count": 10,
   "metadata": {},
   "outputs": [
    {
     "data": {
      "text/plain": [
       "construct (generic function with 1 method)"
      ]
     },
     "metadata": {},
     "output_type": "display_data"
    }
   ],
   "source": [
    "function construct(sol::Array{Int})::Tuple{Array{Int}, Array{Int}}\n",
    "    n = length(sol)\n",
    "    n_diag = 2n - 1\n",
    "\n",
    "    diag_up = zeros(Int, n_diag)\n",
    "    diag_dn = zeros(Int, n_diag)\n",
    "\n",
    "    cand = Array(1:n)\n",
    "    trials = 10 * floor(log10(n))  # number of random trials\n",
    "    for i = 1:n\n",
    "        for t in trials\n",
    "            col_id = rand(1:length(cand))\n",
    "            col = cand[col_id]\n",
    "            colls = diag_up[i + col - 1] + diag_dn[n - i + col]\n",
    "            if colls == 0\n",
    "                sol[i] = col\n",
    "                diag_up[i + col - 1] += 1\n",
    "                diag_dn[n - i + col] += 1\n",
    "                deleteat!(cand, col_id)\n",
    "                break\n",
    "            else\n",
    "                mincolls = 100000000000\n",
    "                col_id = -1\n",
    "                for j in 1:length(cand)\n",
    "                    colls = diag_up[i + cand[j] - 1] + diag_dn[n - i + cand[j]]\n",
    "                    if colls < mincolls\n",
    "                        mincolls = colls\n",
    "                        col = cand[j]\n",
    "                        col_id = j\n",
    "                    end\n",
    "                end\n",
    "                sol[i] = col\n",
    "                diag_up[i + col - 1] += 1\n",
    "                diag_dn[n - i + col] += 1\n",
    "                deleteat!(cand, col_id)\n",
    "            end\n",
    "        end\n",
    "    end\n",
    "    return diag_up, diag_dn\n",
    "end\n"
   ]
  },
  {
   "cell_type": "code",
   "execution_count": 14,
   "metadata": {},
   "outputs": [
    {
     "name": "stdout",
     "output_type": "stream",
     "text": [
      "collisions of randomized greedy: 3\n",
      "initial solution (random greedy) \n",
      "array: [7, 1, 3, 5, 2, 4, 9, 6, 8, 10]\n",
      ". . . . . . o . . . \n",
      "o . . . . . . . . . \n",
      ". . o . . . . . . . \n",
      ". . . . o . . . . . \n",
      ". o . . . . . . . . \n",
      ". . . o . . . . . . \n",
      ". . . . . . . . o . \n",
      ". . . . . o . . . . \n",
      ". . . . . . . o . . \n",
      ". . . . . . . . . o \n",
      "queens on upward diagonals: [0, 1, 0, 0, 1, 1, 1, 1, 1, 0, 0, 0, 1, 0, 1, 1, 0, 0, 1]\n",
      "queens on downward diagonals: [0, 0, 0, 0, 0, 0, 1, 2, 2, 2, 1, 1, 0, 0, 0, 1, 0, 0, 0]\n",
      "starting fast tabu search\n",
      "main(): 0.005192 seconds (1.70 k allocations: 49.812 KiB)\n"
     ]
    }
   ],
   "source": [
    "function main()\n",
    "    LOG = true\n",
    "    n = 10\n",
    "    sol = Array(1:n)\n",
    "    up, dn = construct(sol)\n",
    "    n_colls = collisions(up) + collisions(dn)\n",
    "    println(\"collisions of randomized greedy: \", n_colls)\n",
    "    if LOG\n",
    "        println(\"initial solution (random greedy) \")\n",
    "        println(\"array: \", sol)\n",
    "        show_board(sol)\n",
    "        println(\"queens on upward diagonals: \", up)\n",
    "        println(\"queens on downward diagonals: \", dn)\n",
    "    end\n",
    "\n",
    "    println(\"starting fast tabu search\")\n",
    "    # fast_tabu_search(sol, up, dn)\n",
    "    # n_colls = collisions(up) + collisions(dn)\n",
    "    # println(\"collisions: \", n_colls)\n",
    "end\n",
    "@showtime main()\n"
   ]
  },
  {
   "cell_type": "code",
   "execution_count": 12,
   "metadata": {},
   "outputs": [],
   "source": []
  }
 ],
 "metadata": {
  "kernelspec": {
   "display_name": "Julia 1.9.3",
   "language": "julia",
   "name": "julia-1.9"
  },
  "language_info": {
   "file_extension": ".jl",
   "mimetype": "application/julia",
   "name": "julia",
   "version": "1.9.3"
  }
 },
 "nbformat": 4,
 "nbformat_minor": 2
}
